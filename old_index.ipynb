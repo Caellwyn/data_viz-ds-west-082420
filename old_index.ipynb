{
 "cells": [
  {
   "cell_type": "markdown",
   "metadata": {},
   "source": [
    "# Data Visualization with Matplotlib and Seaborn"
   ]
  },
  {
   "cell_type": "markdown",
   "metadata": {},
   "source": [
    "Agenda: \n",
    "- Explain what types of graphs best convey specific relationships\n",
    "- Use the subplots syntax to create a graph\n",
    "    - Line\n",
    "    - Bar\n",
    "    - Scatter\n",
    "    - Hist\n",
    "- Customize different aspects of a graph\n",
    "    - labels (title, axis)\n",
    "    - Linestyle \n",
    "    - Colors\n",
    "- Create multiple graphs in one figure\n"
   ]
  },
  {
   "cell_type": "markdown",
   "metadata": {},
   "source": [
    "# Activation Exercise"
   ]
  },
  {
   "cell_type": "markdown",
   "metadata": {},
   "source": [
    "Take 3 minutes in groups of 3 to think about what types of plots would be best to visualize the scenarios below.  \n",
    "Peruse some plot examples here for ideas:\n",
    "[Python Graphing Gallery](https://python-graph-gallery.com) or [Data Viz Project](https://datavizproject.com/)\n"
   ]
  },
  {
   "cell_type": "markdown",
   "metadata": {},
   "source": [
    "### Scenario 1: You would like to display counts of coffee shops in each Chicago zipcode?"
   ]
  },
  {
   "cell_type": "code",
   "execution_count": null,
   "metadata": {},
   "outputs": [],
   "source": [
    " # what are some appropriate plots?"
   ]
  },
  {
   "cell_type": "markdown",
   "metadata": {},
   "source": [
    "### Scenario 2: You would like to visualize the correllation between miles per gallon of a car and horsepower"
   ]
  },
  {
   "cell_type": "code",
   "execution_count": null,
   "metadata": {},
   "outputs": [],
   "source": [
    "# what are some appropriate plots?"
   ]
  },
  {
   "cell_type": "markdown",
   "metadata": {},
   "source": [
    "### Scenario 3: You would like to visualize the distribution of blood pressure readings of American males between 25 and 35"
   ]
  },
  {
   "cell_type": "code",
   "execution_count": null,
   "metadata": {},
   "outputs": [],
   "source": [
    "# what are some appropriate plots?"
   ]
  },
  {
   "cell_type": "markdown",
   "metadata": {},
   "source": [
    "## Why Visualize Data?\n",
    "or why can’t we just hand someone a table of data?"
   ]
  },
  {
   "cell_type": "markdown",
   "metadata": {},
   "source": [
    "Let's load up the iris data set.  This is a famous built-in dataset which is used to learn about categorization. "
   ]
  },
  {
   "cell_type": "code",
   "execution_count": null,
   "metadata": {},
   "outputs": [],
   "source": [
    "# One of several libraries you will get real used to importing. \n",
    "# https://matplotlib.org/3.1.1/index.html\n",
    "import matplotlib.pyplot as plt\n",
    "\n",
    "# Two well worn data sets\n",
    "from sklearn.datasets import load_iris, load_wine\n",
    "import pandas as pd\n",
    "\n",
    "data = load_iris()\n",
    "df_iris = pd.DataFrame(data['data'], columns=data['feature_names'])\n",
    "df_iris['target'] = data['target']"
   ]
  },
  {
   "cell_type": "markdown",
   "metadata": {},
   "source": [
    "Here is an image of one of the virginica iris, which is unique in its relative petal and sepal length."
   ]
  },
  {
   "cell_type": "markdown",
   "metadata": {},
   "source": [
    "![virginica_iris](iris_virginica.jpg)"
   ]
  },
  {
   "cell_type": "markdown",
   "metadata": {},
   "source": [
    "### Dataframe vs Graph: Which do you prefer?"
   ]
  },
  {
   "cell_type": "code",
   "execution_count": null,
   "metadata": {},
   "outputs": [],
   "source": [
    "# I like to use sample rather than head because it gives me a better idea of the distribution of observations\n",
    "df_iris.sample(5)"
   ]
  },
  {
   "cell_type": "code",
   "execution_count": null,
   "metadata": {},
   "outputs": [],
   "source": [
    "fig, ax = plt.subplots(figsize=(8, 5))\n",
    "\n",
    "# Iterate through each type of flower and plot them using different colors\n",
    "for flower in df_iris['target'].unique():\n",
    "    subset_df = df_iris[df_iris['target'] == flower]\n",
    "    x = subset_df['sepal length (cm)']\n",
    "    y = subset_df['petal length (cm)']\n",
    "    \n",
    "    ax.scatter(x, y, label=data['target_names'][flower])\n",
    "\n",
    "# Label your axes!\n",
    "ax.set_ylabel('petal length (cm)')\n",
    "ax.set_xlabel('sepal length (cm)')\n",
    "ax.set_title('Petal length vs Sepal Length for Three Species of Flowers')\n",
    "ax.legend();"
   ]
  },
  {
   "cell_type": "markdown",
   "metadata": {},
   "source": [
    "What information in this graph jumps out to you?"
   ]
  },
  {
   "cell_type": "code",
   "execution_count": null,
   "metadata": {},
   "outputs": [],
   "source": [
    "# your thoughts here"
   ]
  },
  {
   "cell_type": "markdown",
   "metadata": {},
   "source": [
    "In your presentation decks, you will no doubt be tempted to print out the head of a data frame, take a screen shot, and plop it in the middle of a slide.  We all have that instinct; the dataframe object will become one your most cherished objects. If you put them in your deck, you will no doubt hear one of us gently request its replacement with some other figure."
   ]
  },
  {
   "cell_type": "markdown",
   "metadata": {},
   "source": [
    "## The Effectiveness of Visualizations\n",
    "\n",
    "- People are highly visual and can synthesize visual information such more quickly than rows and columns of numbers \n",
    "- Precognitive understanding of the data\n",
    "- Visual representations can be much more viscerally persuasive "
   ]
  },
  {
   "cell_type": "markdown",
   "metadata": {},
   "source": [
    "## What Makes an Effective Visualization?\n",
    "\n",
    "- Each graph should have a clear point it is trying to make. Understanding the insight you are trying to convey will guide the decision making process for what kind of graph will be most effective\n",
    "\n",
    "- Know your audience! Come up with a use case and audience to pitch your visualizations\n",
    "\n",
    "- Choosing the correct graph for the relationship you are trying to communicate\n",
    "\n",
    "- Label your axes and graph! It should not be difficult for someone to understand what your graph is trying to represent\n",
    "\n",
    "- People have unconscious responses to visuals which will effect the way they interpret information. Good visualization makes use of these natural shortcuts in cognition to convey information more efficiently\n",
    "        - Red and Down tends to be negative while Green and Up is positive\n",
    "        - Lighter hues are seen as lower values and darker is higher values\n",
    "        - Axis start at zero\n",
    "        \n",
    "__Note:__ All of these 'rules' can be broken but know that you will be working against most people's first instinct"
   ]
  },
  {
   "cell_type": "markdown",
   "metadata": {},
   "source": [
    "## How to Lie with Graphs\n",
    "\n",
    "- Graphs can be misleading\n",
    "- Consciously or unconsciously people will make decisions to lead people towards their conclusions of the data\n",
    "\n",
    "- Examples of dark patterns\n",
    "        - Changing the axis scale\n",
    "        - Using two different y axis scales to compare trends\n",
    "        - Showing cumulative data which will always be increasing to hide a downturn in a trend\n",
    "        - Pie charts (comparing degrees is not something people are good at) just use a bar chart\n",
    "        - Inconsistent units\n",
    "        - Not showing all of the data for motivated reasons\n",
    "        - Percentages not adding up to 100"
   ]
  },
  {
   "cell_type": "markdown",
   "metadata": {},
   "source": [
    "<img src=\"data/pie-chart-misleading.png\">\n",
    "\n",
    "image: http://flowingdata.com/2009/11/26/fox-news-makes-the-best-pie-chart-ever/\n",
    "\n",
    "_____\n",
    "\n",
    "\n",
    "\n",
    "<img src=\"data/usa-today-2.png\">"
   ]
  },
  {
   "cell_type": "markdown",
   "metadata": {},
   "source": [
    "# Matplotlib"
   ]
  },
  {
   "cell_type": "markdown",
   "metadata": {},
   "source": [
    "<img src=\"data/matplotlib_anatomy.png\">"
   ]
  },
  {
   "cell_type": "markdown",
   "metadata": {},
   "source": [
    "Explanation of non-obvious terms\n",
    "\n",
    "__Figure__ - This is the sheet of paper all of your graphing sits on. \n",
    "\n",
    "__Axis__ - An axis is an individual plot. You can have multiple axes on one figure\n",
    "\n",
    "__Major/Minor Ticks__ - The large and small dashes on the x and y axis\n",
    "\n",
    "__Markers__ - In a scatter plot each of the points is refered to as a marker\n",
    "\n",
    "__Spines__ - The lines that bound each axis"
   ]
  },
  {
   "cell_type": "markdown",
   "metadata": {},
   "source": [
    "# Common Charts and Their Uses"
   ]
  },
  {
   "cell_type": "markdown",
   "metadata": {},
   "source": [
    "# Scatter Plots\n",
    "\n",
    "Scatter plots are also very common.  They allow one to visualize the relationship of two variables. \n",
    "\n",
    "In the plots below, we see different correlations between variables:\n",
    "\n"
   ]
  },
  {
   "cell_type": "code",
   "execution_count": null,
   "metadata": {},
   "outputs": [],
   "source": [
    "from sklearn.datasets import load_boston\n",
    "boston = load_boston()\n",
    "boston_df = pd.DataFrame(boston['data'])\n",
    "boston_df.columns = boston['feature_names']"
   ]
  },
  {
   "cell_type": "markdown",
   "metadata": {},
   "source": [
    "# The graph below is missing a title and labels.  \n",
    "Let's work together to add labels using the methods reference in the link below.  \n",
    "Reference [this link](https://python-graph-gallery.com/4-add-title-and-axis-label/)"
   ]
  },
  {
   "cell_type": "code",
   "execution_count": null,
   "metadata": {},
   "outputs": [],
   "source": [
    "plt.scatter(boston_df.RM, boston_df.LSTAT, c='red')\n",
    "x_label = 'Rooms'\n",
    "y_label = 'LSTAT'\n",
    "title = 'Negative Correlation btwn Rooms and LSTAT in Boston'\n",
    "\n",
    "plt.tight_layout()"
   ]
  },
  {
   "cell_type": "markdown",
   "metadata": {},
   "source": [
    "We can also change [color](https://matplotlib.org/3.1.0/gallery/color/named_colors.html), opacity, marker size, and [marker symbol](https://matplotlib.org/3.2.1/api/markers_api.html).  \n",
    "Below, we have a list of parameters with incorrect values.  Place the values into the correct parameters to create a scatter plot of the correlation between \"rooms\" and \"% lower status of the population\" with large blue triangles."
   ]
  },
  {
   "cell_type": "markdown",
   "metadata": {},
   "source": [
    "# Group Discussion:\n",
    "Have a conversation with your partners and decide how to rearrange the variables into the correct pattern"
   ]
  },
  {
   "cell_type": "code",
   "execution_count": null,
   "metadata": {},
   "outputs": [],
   "source": [
    "plt.scatter()\n",
    "c = boston_df.RM \n",
    "marker = 100\n",
    "x=.5 \n",
    "alpha = 'blue' \n",
    "marker='pink' \n",
    "y='^'\n",
    "s=boston_df.LSTAT "
   ]
  },
  {
   "cell_type": "markdown",
   "metadata": {},
   "source": [
    "## Line Plot\n",
    "\n",
    "Tracks the change of a single variable over time.  They are generally better than bar graphs over shorter periods of time.\n",
    "\n",
    "Here is some code to read in some well worn shampoo sales data over a three year period."
   ]
  },
  {
   "cell_type": "code",
   "execution_count": null,
   "metadata": {},
   "outputs": [],
   "source": [
    "import pandas as pd\n",
    "import matplotlib.pyplot as plt\n",
    "\n",
    "shampoo = pd.read_csv('data/sales-of-shampoo-over-a-three-ye.csv')[:-1]\n",
    "\n",
    "shampoo"
   ]
  },
  {
   "cell_type": "code",
   "execution_count": null,
   "metadata": {},
   "outputs": [],
   "source": [
    "plt.plot(shampoo.Month, shampoo.iloc[:,1], color='g')\n",
    "plt.title('Shampoo Sales Across 3 Years')\n",
    "plt.xlabel('Year')\n",
    "plt.ylabel('Total Sales')"
   ]
  },
  {
   "cell_type": "markdown",
   "metadata": {},
   "source": [
    "## The xticks are illegible in the plot above.\n",
    "\n"
   ]
  },
  {
   "cell_type": "markdown",
   "metadata": {},
   "source": [
    "One way to combat that is to try rotating the ticks.  \n",
    "Use [this documentation](https://matplotlib.org/3.1.1/gallery/ticks_and_spines/ticklabels_rotation.html) to learn how to rotate.\n",
    "\n",
    "While you're at it, change the [linestyle](https://matplotlib.org/3.1.0/gallery/lines_bars_and_markers/linestyles.html)."
   ]
  },
  {
   "cell_type": "code",
   "execution_count": null,
   "metadata": {},
   "outputs": [],
   "source": [
    "# Update the code below to rotate the xticks\n",
    "plt.plot(shampoo.Month, shampoo.iloc[:,1], color='g')\n",
    "plt.title('Shampoo Sales Across 3 Years')\n",
    "plt.xlabel('Year')\n",
    "plt.ylabel('Total Sales')\n"
   ]
  },
  {
   "cell_type": "markdown",
   "metadata": {},
   "source": [
    "# Pair Programming # 1\n",
    "Now, in groups of 2, take 3 minutes to see if you can do better. Look into the xticks documentation further. Try to reduce the number of ticks to increase visability\n",
    "\n",
    "This can be tricky.  Don't get discouraged if you can't get it."
   ]
  },
  {
   "cell_type": "code",
   "execution_count": null,
   "metadata": {},
   "outputs": [],
   "source": [
    "# Your code here"
   ]
  },
  {
   "cell_type": "markdown",
   "metadata": {},
   "source": [
    "## Bar charts\n",
    "\n",
    "Bar charts are everywhere: powerpoints, billboards and the evening news. They are used to show the relationship of a numerical and a categorical variable.\n",
    "\n",
    "For example, a bar chart can show the growth of a single categorical variable across time.\n",
    "\n"
   ]
  },
  {
   "cell_type": "code",
   "execution_count": null,
   "metadata": {},
   "outputs": [],
   "source": [
    "# Year and months are in an odd format in this shampoo dataset.  \n",
    "# Use custom functions to extract data\n",
    "\n",
    "def get_year(date):\n",
    "    return date[0]\n",
    "\n",
    "shampoo['year'] = shampoo['Month'].apply(get_year)\n",
    "total_sales_per_year = shampoo.groupby('year').sum()[:-1]\n",
    "\n",
    "def get_month(date):\n",
    "    return date[2:]\n",
    "\n",
    "shampoo['month'] = shampoo['Month'].apply(get_month)\n",
    "total_sales_per_month = shampoo.groupby('month').sum().sort_values(by='month')\n",
    "months = ['January', 'February', 'March', 'April', \n",
    "         'May', 'June', 'July', 'August', 'September', \n",
    "         'October', 'November', 'December']\n",
    "total_sales_per_month"
   ]
  },
  {
   "cell_type": "code",
   "execution_count": null,
   "metadata": {},
   "outputs": [],
   "source": [
    "plt.bar(x = list(total_sales_per_month.index), height=total_sales_per_month.values.flatten())\n",
    "plt.xticks(ticks = range(0,12), labels=months)\n",
    "plt.xticks(rotation=45)\n",
    "plt.title('Total shampoo sales per month')\n",
    "plt.xlabel('Total Sales')\n",
    "plt.ylabel('Month')\n",
    "plt.tight_layout()"
   ]
  },
  {
   "cell_type": "markdown",
   "metadata": {},
   "source": [
    "The plot about is small. Adjust the figure size to make it bigger.\n",
    "Look at [this link](https://stackoverflow.com/questions/332289/how-do-you-change-the-size-of-figures-drawn-with-matplotlib)"
   ]
  },
  {
   "cell_type": "code",
   "execution_count": null,
   "metadata": {},
   "outputs": [],
   "source": [
    "# Your code here"
   ]
  },
  {
   "cell_type": "code",
   "execution_count": null,
   "metadata": {},
   "outputs": [],
   "source": [
    "# With barplots, we can also interact with indiividual rectangles.\n",
    "\n",
    "rectangles = plt.bar(x = list(total_sales_per_month.index), height=total_sales_per_month.values.flatten())\n",
    "plt.xticks(ticks = range(0,12), labels=months)\n",
    "plt.xticks(rotation=45)\n",
    "plt.title('Total shampoo sales per month')\n",
    "plt.xlabel('Total Sales')\n",
    "plt.ylabel('Month')\n",
    "plt.tight_layout()\n",
    "rectangles[2].set_color('r')"
   ]
  },
  {
   "cell_type": "markdown",
   "metadata": {},
   "source": [
    "## Histograms"
   ]
  },
  {
   "cell_type": "markdown",
   "metadata": {},
   "source": [
    "We will get get further into histograms in mod 2, but it is good to get familiar with them sooner rather than later. \n",
    "\n",
    "Histograms create uniform bins across the entire range of a continuous variable. They then count the number of data points which fall into each bin.  \n",
    "\n",
    "Histograms are often confused with bar charts, since they look somewhat similar.  The big difference, however, is that histograms visualize the distribution of a continuous variable, rather than the discrete variable shown by barcharts. You can remember this because the bins of histograms don't have spaces between them.\n",
    "\n"
   ]
  },
  {
   "cell_type": "markdown",
   "metadata": {},
   "source": [
    "![histogram_ex](images/histogram_example.svg)"
   ]
  },
  {
   "cell_type": "code",
   "execution_count": null,
   "metadata": {},
   "outputs": [],
   "source": [
    "# Here is a histogram of sales prices from the Boston Housing Dataset\n",
    "from sklearn.datasets import load_boston\n",
    "boston = load_boston()\n",
    "sales_price = boston['target']\n",
    "\n",
    "fig, ax = plt.subplots()\n",
    "ax.hist(sales_price)\n",
    "ax.set_xlabel('House Price ($1000s)');\n",
    "ax.set_ylabel('Count')\n",
    "ax.set_title('Distribution of Boston House Prices');"
   ]
  },
  {
   "cell_type": "markdown",
   "metadata": {},
   "source": [
    "## Box Plots\n",
    "\n",
    "Box plots (or box-and-whisker plots), like histograms, show the distribution of a continous variable.  They have a median line, where half the data falls above, half below.  The box represents the interquartile range, and the whiskers encompass (most often) 95% of the data. We can detect skew from a boxplot, and it is also a quick way to see detect outliers.\n",
    "\n",
    "Again, we will get further into boxplots in mod 2."
   ]
  },
  {
   "cell_type": "markdown",
   "metadata": {},
   "source": [
    "![boxplot](images/boxplot.png)"
   ]
  },
  {
   "cell_type": "markdown",
   "metadata": {},
   "source": [
    "## Plotting Syntax\n",
    "\n",
    "- There are many different ways to create plots but we will strongly suggest using the subplots method\n",
    "    - This is useful for extensibility \n",
    "    - Gives you access to the figure and individual axis in a plot\n",
    "    - More fine grained control of customizing your plot\n",
    "    - Easily create additional axis on your figure\n",
    "    - This syntax is a good level of abstraction\n",
    "        - You can go deeper into the api but this should give you immediate access to most tools you will need for whatever plot you are making\n",
    "    - Flatiron Specifc\n",
    "        - Plotting code will be more easily readable for other students and instructors\n",
    "        - You don’t need to remember many different ways to organize your code"
   ]
  },
  {
   "cell_type": "markdown",
   "metadata": {},
   "source": [
    "Here are links to the [matplotlib documentation](https://matplotlib.org/index.html) as well as the [Axes object documentation](https://matplotlib.org/api/axes_api.html):\n",
    "\n",
    "We will now walk through some common charts and their uses, while practicing our matplotlib syntax"
   ]
  },
  {
   "cell_type": "markdown",
   "metadata": {},
   "source": [
    "# Pair Programming 2:\n",
    "\n",
    "We want to display the boxplot and the histogram of the boston housing sales prices side by side.  \n",
    "To do so, we will us the plt.subplots() convention.  \n",
    "\n",
    "The cell below is missing the appropriate ax and fig variables, so it will not run.  \n",
    "\n",
    "In groups of two, take 3 minutes to add in the appropriate variables to make the cell function."
   ]
  },
  {
   "cell_type": "code",
   "execution_count": null,
   "metadata": {},
   "outputs": [],
   "source": [
    "\n",
    "fig, () = plt.subplots(1,2)\n",
    "set_figheight(7)\n",
    "set_figwidth(10)\n",
    "\n",
    "boxplot(sales_price)\n",
    "set_xlabel('House Price ($1000s)');\n",
    "set_ylabel('Count')\n",
    "set_title('Many Outliers in Boston House Prices')\n",
    "\n",
    "hist(sales_price)\n",
    "set_ylabel('Count')\n",
    "set_title('Distribution of Boston House Prices')\n",
    "\n",
    "plt.tight_layout()\n",
    ";"
   ]
  },
  {
   "cell_type": "markdown",
   "metadata": {},
   "source": [
    "## Pie Charts\n",
    "Love em or hate em, you'll no doubt see em.\n",
    "One spend much time on them, but know you can use matplotlib to plot them.\n",
    "They show relative sizes of subgroups of our data."
   ]
  },
  {
   "cell_type": "code",
   "execution_count": null,
   "metadata": {},
   "outputs": [],
   "source": [
    "fig, ax = plt.subplots()\n",
    "ax.pie(df_iris['target'].value_counts(), labels = list(data['target_names']), autopct='%1.0f%%');\n",
    "\n",
    "ax.set_title('Target Distribution of Iris Dataset')\n",
    "plt.tight_layout()\n"
   ]
  },
  {
   "cell_type": "markdown",
   "metadata": {},
   "source": [
    "## Layering\n",
    "\n",
    "![cake](https://media.giphy.com/media/XMgCFjsCSARxK/giphy.gif)"
   ]
  },
  {
   "cell_type": "markdown",
   "metadata": {},
   "source": [
    "If we want to add multiple plots on one axis, we can simply call the plotting functions one after the other. "
   ]
  },
  {
   "cell_type": "code",
   "execution_count": null,
   "metadata": {},
   "outputs": [],
   "source": [
    "fig, ax = plt.subplots()\n",
    "for group in shampoo.groupby('year').groups:\n",
    "    x = shampoo.groupby('year').get_group(group)\n",
    "    ax.plot(x.month, x.iloc[:,1], )\n",
    "    \n",
    "ax.set_title('Lineplot of Shampoo Sales\\n Over Three Years')\n",
    "ax.legend(['year_1', 'year_2', 'year_3'])\n",
    "ax.set_xlabel('Month')\n",
    "ax.set_ylabel('Shampoo Sales')"
   ]
  },
  {
   "cell_type": "markdown",
   "metadata": {},
   "source": [
    "### Quick note: style sheets are cool\n",
    "\n",
    "Find another style from the Docs and set the style. Once you've set the style try rerunning older graphs:\n",
    "\n",
    "[Style Sheets](https://matplotlib.org/3.1.1/gallery/style_sheets/style_sheets_reference.html)"
   ]
  },
  {
   "cell_type": "code",
   "execution_count": null,
   "metadata": {},
   "outputs": [],
   "source": [
    "style = 'fivethirtyeight'\n",
    "plt.style.use(style)"
   ]
  },
  {
   "cell_type": "markdown",
   "metadata": {},
   "source": [
    "## Saving your figures"
   ]
  },
  {
   "cell_type": "markdown",
   "metadata": {},
   "source": [
    "Let's split the shampoo sales into years, and plot three line plots, one on top of the other"
   ]
  },
  {
   "cell_type": "code",
   "execution_count": null,
   "metadata": {},
   "outputs": [],
   "source": [
    "fig, ax = plt.subplots()\n",
    "for group in shampoo.groupby('year').groups:\n",
    "    x = shampoo.groupby('year').get_group(group)\n",
    "    ax.plot(x.month, x.iloc[:,1], )\n",
    "    \n",
    "ax.legend(['year_1', 'year_2', 'year_3'])\n",
    "ax.set_xlabel('Month')\n",
    "ax.set_ylabel('Shampoo Sales')\n",
    "\n",
    "# plt.savefig('path_to_figure_folder/.svg')"
   ]
  },
  {
   "cell_type": "code",
   "execution_count": null,
   "metadata": {},
   "outputs": [],
   "source": []
  }
 ],
 "metadata": {
  "kernelspec": {
   "display_name": "Python 3",
   "language": "python",
   "name": "python3"
  },
  "language_info": {
   "codemirror_mode": {
    "name": "ipython",
    "version": 3
   },
   "file_extension": ".py",
   "mimetype": "text/x-python",
   "name": "python",
   "nbconvert_exporter": "python",
   "pygments_lexer": "ipython3",
   "version": "3.7.3"
  }
 },
 "nbformat": 4,
 "nbformat_minor": 4
}
