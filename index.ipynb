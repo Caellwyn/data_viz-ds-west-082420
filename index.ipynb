{
 "cells": [
  {
   "cell_type": "markdown",
   "metadata": {},
   "source": [
    "# Data Visualization with Matplotlib and Seaborn"
   ]
  },
  {
   "cell_type": "markdown",
   "metadata": {},
   "source": [
    "Agenda: \n",
    "- Explain what types of graphs best convey specific relationships\n",
    "- Use the subplots syntax to create a graph\n",
    "    - Line\n",
    "    - Bar\n",
    "    - Scatter\n",
    "    - Hist\n",
    "- Customize different aspects of a graph\n",
    "    - labels (title, axis)\n",
    "    - Linestyle \n",
    "    - Colors\n",
    "- Create multiple graphs in one figure\n"
   ]
  },
  {
   "cell_type": "markdown",
   "metadata": {},
   "source": [
    "# Activation Exercise"
   ]
  },
  {
   "cell_type": "markdown",
   "metadata": {},
   "source": [
    "Take 3 minutes in groups of 3 to think about what types of plots would be best to visualize the scenarios below.  \n",
    "Peruse some plot examples here for ideas:\n",
    "[Python Graphing Gallery](https://python-graph-gallery.com) or [Data Viz Project](https://datavizproject.com/)\n"
   ]
  },
  {
   "cell_type": "markdown",
   "metadata": {},
   "source": [
    "### Scenario 1: You would like to display counts of coffee shops in each Chicago zipcode?"
   ]
  },
  {
   "cell_type": "code",
   "execution_count": 3,
   "metadata": {},
   "outputs": [],
   "source": [
    " # what are some appropriate plots?"
   ]
  },
  {
   "cell_type": "markdown",
   "metadata": {},
   "source": [
    "### Scenario 2: You would like to visualize the correllation between miles per gallon of a car and horsepower"
   ]
  },
  {
   "cell_type": "code",
   "execution_count": 4,
   "metadata": {},
   "outputs": [],
   "source": [
    "# what are some appropriate plots?"
   ]
  },
  {
   "cell_type": "markdown",
   "metadata": {},
   "source": [
    "### Scenario 3: You would like to visualize the distribution of blood pressure readings of American males between 25 and 35"
   ]
  },
  {
   "cell_type": "code",
   "execution_count": 5,
   "metadata": {},
   "outputs": [],
   "source": [
    "# what are some appropriate plots?"
   ]
  },
  {
   "cell_type": "markdown",
   "metadata": {},
   "source": [
    "## Why Visualize Data?\n",
    "or why can’t we just hand someone a table of data?"
   ]
  },
  {
   "cell_type": "markdown",
   "metadata": {},
   "source": [
    "Let's load up the iris data set.  This is a famous built-in dataset which is used to learn about categorization. "
   ]
  },
  {
   "cell_type": "code",
   "execution_count": 6,
   "metadata": {},
   "outputs": [],
   "source": [
    "# One of several libraries you will get real used to importing. \n",
    "# https://matplotlib.org/3.1.1/index.html\n",
    "import matplotlib.pyplot as plt\n",
    "%load_ext autoreload\n",
    "%autoreload 2\n",
    "# Two well worn data sets\n",
    "from sklearn.datasets import load_iris, load_wine\n",
    "import pandas as pd\n",
    "\n",
    "data = load_iris()\n",
    "df_iris = pd.DataFrame(data['data'], columns=data['feature_names'])\n",
    "df_iris['target'] = data['target']"
   ]
  },
  {
   "cell_type": "markdown",
   "metadata": {},
   "source": [
    "Here is an image of one of the virginica iris, which is unique in its relative petal and sepal length."
   ]
  },
  {
   "cell_type": "markdown",
   "metadata": {},
   "source": [
    "![virginica_iris](iris_virginica.jpg)"
   ]
  },
  {
   "cell_type": "markdown",
   "metadata": {},
   "source": [
    "### Dataframe vs Graph: Which do you prefer?"
   ]
  },
  {
   "cell_type": "code",
   "execution_count": 7,
   "metadata": {},
   "outputs": [
    {
     "data": {
      "text/html": [
       "<div>\n",
       "<style scoped>\n",
       "    .dataframe tbody tr th:only-of-type {\n",
       "        vertical-align: middle;\n",
       "    }\n",
       "\n",
       "    .dataframe tbody tr th {\n",
       "        vertical-align: top;\n",
       "    }\n",
       "\n",
       "    .dataframe thead th {\n",
       "        text-align: right;\n",
       "    }\n",
       "</style>\n",
       "<table border=\"1\" class=\"dataframe\">\n",
       "  <thead>\n",
       "    <tr style=\"text-align: right;\">\n",
       "      <th></th>\n",
       "      <th>sepal length (cm)</th>\n",
       "      <th>sepal width (cm)</th>\n",
       "      <th>petal length (cm)</th>\n",
       "      <th>petal width (cm)</th>\n",
       "      <th>target</th>\n",
       "    </tr>\n",
       "  </thead>\n",
       "  <tbody>\n",
       "    <tr>\n",
       "      <th>20</th>\n",
       "      <td>5.4</td>\n",
       "      <td>3.4</td>\n",
       "      <td>1.7</td>\n",
       "      <td>0.2</td>\n",
       "      <td>0</td>\n",
       "    </tr>\n",
       "    <tr>\n",
       "      <th>72</th>\n",
       "      <td>6.3</td>\n",
       "      <td>2.5</td>\n",
       "      <td>4.9</td>\n",
       "      <td>1.5</td>\n",
       "      <td>1</td>\n",
       "    </tr>\n",
       "    <tr>\n",
       "      <th>38</th>\n",
       "      <td>4.4</td>\n",
       "      <td>3.0</td>\n",
       "      <td>1.3</td>\n",
       "      <td>0.2</td>\n",
       "      <td>0</td>\n",
       "    </tr>\n",
       "    <tr>\n",
       "      <th>129</th>\n",
       "      <td>7.2</td>\n",
       "      <td>3.0</td>\n",
       "      <td>5.8</td>\n",
       "      <td>1.6</td>\n",
       "      <td>2</td>\n",
       "    </tr>\n",
       "    <tr>\n",
       "      <th>54</th>\n",
       "      <td>6.5</td>\n",
       "      <td>2.8</td>\n",
       "      <td>4.6</td>\n",
       "      <td>1.5</td>\n",
       "      <td>1</td>\n",
       "    </tr>\n",
       "  </tbody>\n",
       "</table>\n",
       "</div>"
      ],
      "text/plain": [
       "     sepal length (cm)  sepal width (cm)  petal length (cm)  petal width (cm)  \\\n",
       "20                 5.4               3.4                1.7               0.2   \n",
       "72                 6.3               2.5                4.9               1.5   \n",
       "38                 4.4               3.0                1.3               0.2   \n",
       "129                7.2               3.0                5.8               1.6   \n",
       "54                 6.5               2.8                4.6               1.5   \n",
       "\n",
       "     target  \n",
       "20        0  \n",
       "72        1  \n",
       "38        0  \n",
       "129       2  \n",
       "54        1  "
      ]
     },
     "execution_count": 7,
     "metadata": {},
     "output_type": "execute_result"
    }
   ],
   "source": [
    "# I like to use sample rather than head because it gives me a better idea of the distribution of observations\n",
    "df_iris.sample(5)"
   ]
  },
  {
   "cell_type": "code",
   "execution_count": 8,
   "metadata": {},
   "outputs": [
    {
     "data": {
      "image/png": "[encoded data removed]",
      "text/plain": [
       "<Figure size 576x360 with 1 Axes>"
      ]
     },
     "metadata": {
      "needs_background": "light"
     },
     "output_type": "display_data"
    }
   ],
   "source": [
    "fig, ax = plt.subplots(figsize=(8, 5))\n",
    "\n",
    "# Iterate through each type of flower and plot them using different colors\n",
    "for flower in df_iris['target'].unique():\n",
    "    subset_df = df_iris[df_iris['target'] == flower]\n",
    "    x = subset_df['sepal length (cm)']\n",
    "    y = subset_df['petal length (cm)']\n",
    "    \n",
    "    ax.scatter(x, y, label=data['target_names'][flower])\n",
    "\n",
    "# Label your axes!\n",
    "ax.set_ylabel('petal length (cm)')\n",
    "ax.set_xlabel('sepal length (cm)')\n",
    "ax.set_title('Petal length vs Sepal Length for Three Species of Flowers')\n",
    "ax.legend();"
   ]
  },
  {
   "cell_type": "markdown",
   "metadata": {},
   "source": [
    "What information in this graph jumps out to you?"
   ]
  },
  {
   "cell_type": "code",
   "execution_count": 9,
   "metadata": {},
   "outputs": [],
   "source": [
    "# your thoughts here"
   ]
  },
  {
   "cell_type": "markdown",
   "metadata": {},
   "source": [
    "In your presentation decks, you will no doubt be tempted to print out the head of a data frame, take a screen shot, and plop it in the middle of a slide.  We all have that instinct; the dataframe object will become one your most cherished objects. If you put them in your deck, you will no doubt hear one of us gently request its replacement with some other figure."
   ]
  },
  {
   "cell_type": "markdown",
   "metadata": {},
   "source": [
    "## The Effectiveness of Visualizations\n",
    "\n",
    "- People are highly visual and can synthesize visual information such more quickly than rows and columns of numbers \n",
    "- Precognitive understanding of the data\n",
    "- Visual representations can be much more viscerally persuasive "
   ]
  },
  {
   "cell_type": "markdown",
   "metadata": {},
   "source": [
    "## What Makes an Effective Visualization?\n",
    "\n",
    "- Each graph should have a clear point it is trying to make. Understanding the insight you are trying to convey will guide the decision making process for what kind of graph will be most effective\n",
    "\n",
    "- Know your audience! Come up with a use case and audience to pitch your visualizations\n",
    "\n",
    "- Choosing the correct graph for the relationship you are trying to communicate\n",
    "\n",
    "- Label your axes and graph! It should not be difficult for someone to understand what your graph is trying to represent\n",
    "\n",
    "- People have unconscious responses to visuals which will effect the way they interpret information. Good visualization makes use of these natural shortcuts in cognition to convey information more efficiently\n",
    "        - Red and Down tends to be negative while Green and Up is positive\n",
    "        - Lighter hues are seen as lower values and darker is higher values\n",
    "        - Axis start at zero\n",
    "        \n",
    "__Note:__ All of these 'rules' can be broken but know that you will be working against most people's first instinct"
   ]
  },
  {
   "cell_type": "markdown",
   "metadata": {},
   "source": [
    "## How to Lie with Graphs\n",
    "\n",
    "- Graphs can be misleading\n",
    "- Consciously or unconsciously people will make decisions to lead people towards their conclusions of the data\n",
    "\n",
    "- Examples of dark patterns\n",
    "        - Changing the axis scale\n",
    "        - Using two different y axis scales to compare trends\n",
    "        - Showing cumulative data which will always be increasing to hide a downturn in a trend\n",
    "        - Pie charts (comparing degrees is not something people are good at) just use a bar chart\n",
    "        - Inconsistent units\n",
    "        - Not showing all of the data for motivated reasons\n",
    "        - Percentages not adding up to 100"
   ]
  },
  {
   "cell_type": "markdown",
   "metadata": {},
   "source": [
    "<img src=\"data/pie-chart-misleading.png\">\n",
    "\n",
    "image: http://flowingdata.com/2009/11/26/fox-news-makes-the-best-pie-chart-ever/\n",
    "\n",
    "_____\n",
    "\n",
    "\n",
    "\n",
    "<img src=\"data/usa-today-2.png\">"
   ]
  },
  {
   "cell_type": "markdown",
   "metadata": {},
   "source": [
    "# Matplotlib"
   ]
  },
  {
   "cell_type": "markdown",
   "metadata": {},
   "source": [
    "<img src=\"data/matplotlib_anatomy.png\">"
   ]
  },
  {
   "cell_type": "markdown",
   "metadata": {},
   "source": [
    "Explanation of non-obvious terms\n",
    "\n",
    "__Figure__ - This is the sheet of paper all of your graphing sits on. \n",
    "\n",
    "__Axis__ - An axis is an individual plot. You can have multiple axes on one figure\n",
    "\n",
    "__Major/Minor Ticks__ - The large and small dashes on the x and y axis\n",
    "\n",
    "__Markers__ - In a scatter plot each of the points is refered to as a marker\n",
    "\n",
    "__Spines__ - The lines that bound each axis"
   ]
  },
  {
   "cell_type": "markdown",
   "metadata": {},
   "source": [
    "# Common Charts and Their Uses"
   ]
  },
  {
   "cell_type": "markdown",
   "metadata": {},
   "source": [
    "# Scatter Plots\n",
    "\n",
    "Scatter plots are also very common.  They allow one to visualize the relationship of two variables. \n",
    "\n",
    "In the plots below, we see different correlations between variables:\n",
    "\n"
   ]
  },
  {
   "cell_type": "code",
   "execution_count": 10,
   "metadata": {},
   "outputs": [],
   "source": [
    "import sys\n",
    "from src.data_import import player_salaries"
   ]
  },
  {
   "cell_type": "code",
   "execution_count": 11,
   "metadata": {},
   "outputs": [],
   "source": [
    "# Allows us to see all of the columns in a dataframe\n",
    "pd.set_option('display.max_columns',None)"
   ]
  },
  {
   "cell_type": "code",
   "execution_count": 12,
   "metadata": {},
   "outputs": [
    {
     "data": {
      "text/plain": [
       "Text(0.5, 1.0, '')"
      ]
     },
     "execution_count": 12,
     "metadata": {},
     "output_type": "execute_result"
    },
    {
     "data": {
      "image/png": "[encoded data removed]",
      "text/plain": [
       "<Figure size 432x288 with 1 Axes>"
      ]
     },
     "metadata": {
      "needs_background": "light"
     },
     "output_type": "display_data"
    }
   ],
   "source": [
    "# Is there a correlation between career points per game average career salary?\n",
    "import numpy as np\n",
    "pts_v_salary = player_salaries.groupby('_id').aggregate(np.mean)[['career_PTS', 'salary']]\n",
    "avg_pts = pts_v_salary['career_PTS']\n",
    "avg_salary = pts_v_salary['salary']\n",
    "\n",
    "plt.scatter(avg_pts, avg_salary)\n",
    "\n",
    "# label the plot below with an appropriate title describing the correlation you see\n",
    "plt.title('')"
   ]
  },
  {
   "cell_type": "markdown",
   "metadata": {},
   "source": [
    "As we move into modeling, we will begin talking about the relationship of a target variable and a feature.  If we are predicting salary using a linear model, seeing strong positive correlation suggests that Points Per Game may be an important feature to include in our model."
   ]
  },
  {
   "cell_type": "code",
   "execution_count": 18,
   "metadata": {},
   "outputs": [
    {
     "data": {
      "text/plain": [
       "0.6416397500759979"
      ]
     },
     "execution_count": 18,
     "metadata": {},
     "output_type": "execute_result"
    }
   ],
   "source": [
    "# We can even put f-strings in titles: \n",
    "pts_v_salary.corr().iloc[0,1]"
   ]
  },
  {
   "cell_type": "code",
   "execution_count": 19,
   "metadata": {},
   "outputs": [],
   "source": [
    "# In pairs, explore the data and visualize a negative correlation"
   ]
  },
  {
   "cell_type": "code",
   "execution_count": 20,
   "metadata": {},
   "outputs": [
    {
     "data": {
      "image/png": "[encoded data removed]",
      "text/plain": [
       "<Figure size 432x288 with 1 Axes>"
      ]
     },
     "metadata": {
      "needs_background": "light"
     },
     "output_type": "display_data"
    }
   ],
   "source": [
    "# Is there a correlation between height and career assits % \n",
    "individual_players = player_salaries.drop_duplicates('_id')\n",
    "\n",
    "height = individual_players['height_inches']\n",
    "career_assts = individual_players['career_AST']\n",
    "\n",
    "plt.scatter(height, career_assts);"
   ]
  },
  {
   "cell_type": "markdown",
   "metadata": {},
   "source": [
    "# The graph above is missing a title and labels.  \n",
    "Let's work together to add labels using the methods reference in the link below.  \n",
    "Reference [this link](https://python-graph-gallery.com/4-add-title-and-axis-label/)"
   ]
  },
  {
   "cell_type": "code",
   "execution_count": 17,
   "metadata": {},
   "outputs": [
    {
     "data": {
      "image/png": "[encoded data removed]",
      "text/plain": [
       "<Figure size 432x288 with 1 Axes>"
      ]
     },
     "metadata": {
      "needs_background": "light"
     },
     "output_type": "display_data"
    }
   ],
   "source": [
    "plt.scatter(height, career_assts);\n",
    "x_label = 'Height (in)'\n",
    "y_label = 'Career Assists/Game'\n",
    "title = 'Assists/Game Over a Player\\'s Career\\nis Negatively Correlated to Height '\n",
    "\n",
    "plt.tight_layout()"
   ]
  },
  {
   "cell_type": "markdown",
   "metadata": {},
   "source": [
    "We can also change [color](https://matplotlib.org/3.1.0/gallery/color/named_colors.html), opacity, marker size, and [marker symbol](https://matplotlib.org/3.2.1/api/markers_api.html).  \n",
    "Below, we have a list of parameters with incorrect values.  Place the values into the correct parameters to create a scatter plot of the correlation between \"rooms\" and \"% lower status of the population\" with large blue triangles."
   ]
  },
  {
   "cell_type": "markdown",
   "metadata": {},
   "source": [
    "# Group Discussion:\n",
    "Have a conversation with your partners and decide how to rearrange the variables into the correct pattern"
   ]
  },
  {
   "cell_type": "code",
   "execution_count": 22,
   "metadata": {},
   "outputs": [
    {
     "data": {
      "text/html": [
       "<div>\n",
       "<style scoped>\n",
       "    .dataframe tbody tr th:only-of-type {\n",
       "        vertical-align: middle;\n",
       "    }\n",
       "\n",
       "    .dataframe tbody tr th {\n",
       "        vertical-align: top;\n",
       "    }\n",
       "\n",
       "    .dataframe thead th {\n",
       "        text-align: right;\n",
       "    }\n",
       "</style>\n",
       "<table border=\"1\" class=\"dataframe\">\n",
       "  <thead>\n",
       "    <tr style=\"text-align: right;\">\n",
       "      <th></th>\n",
       "      <th>_id</th>\n",
       "      <th>birthDate</th>\n",
       "      <th>birthPlace</th>\n",
       "      <th>career_AST</th>\n",
       "      <th>career_FG%</th>\n",
       "      <th>career_FG3%</th>\n",
       "      <th>career_FT%</th>\n",
       "      <th>career_G</th>\n",
       "      <th>career_PER</th>\n",
       "      <th>career_PTS</th>\n",
       "      <th>career_TRB</th>\n",
       "      <th>career_WS</th>\n",
       "      <th>career_eFG%</th>\n",
       "      <th>college</th>\n",
       "      <th>draft_pick</th>\n",
       "      <th>draft_round</th>\n",
       "      <th>draft_team</th>\n",
       "      <th>draft_year</th>\n",
       "      <th>height</th>\n",
       "      <th>highSchool</th>\n",
       "      <th>name</th>\n",
       "      <th>position</th>\n",
       "      <th>shoots</th>\n",
       "      <th>weight</th>\n",
       "      <th>height_inches</th>\n",
       "      <th>league</th>\n",
       "      <th>player_id</th>\n",
       "      <th>salary</th>\n",
       "      <th>season</th>\n",
       "      <th>season_end</th>\n",
       "      <th>season_start</th>\n",
       "      <th>team</th>\n",
       "    </tr>\n",
       "  </thead>\n",
       "  <tbody>\n",
       "    <tr>\n",
       "      <th>0</th>\n",
       "      <td>abdelal01</td>\n",
       "      <td>June 24, 1968</td>\n",
       "      <td>Cairo, Egypt</td>\n",
       "      <td>0.3</td>\n",
       "      <td>50.2</td>\n",
       "      <td>0.0</td>\n",
       "      <td>70.1</td>\n",
       "      <td>256</td>\n",
       "      <td>13.0</td>\n",
       "      <td>5.7</td>\n",
       "      <td>3.3</td>\n",
       "      <td>4.8</td>\n",
       "      <td>50.2</td>\n",
       "      <td>Duke University</td>\n",
       "      <td>25th overall</td>\n",
       "      <td>1st round</td>\n",
       "      <td>Portland Trail Blazers</td>\n",
       "      <td>1990</td>\n",
       "      <td>6-10</td>\n",
       "      <td>Bloomfield in Bloomfield, New Jersey</td>\n",
       "      <td>Alaa Abdelnaby</td>\n",
       "      <td>Power Forward</td>\n",
       "      <td>Right</td>\n",
       "      <td>240lb</td>\n",
       "      <td>82</td>\n",
       "      <td>NBA</td>\n",
       "      <td>abdelal01</td>\n",
       "      <td>395000</td>\n",
       "      <td>1990-91</td>\n",
       "      <td>1991</td>\n",
       "      <td>1990</td>\n",
       "      <td>Portland Trail Blazers</td>\n",
       "    </tr>\n",
       "    <tr>\n",
       "      <th>1</th>\n",
       "      <td>abdelal01</td>\n",
       "      <td>June 24, 1968</td>\n",
       "      <td>Cairo, Egypt</td>\n",
       "      <td>0.3</td>\n",
       "      <td>50.2</td>\n",
       "      <td>0.0</td>\n",
       "      <td>70.1</td>\n",
       "      <td>256</td>\n",
       "      <td>13.0</td>\n",
       "      <td>5.7</td>\n",
       "      <td>3.3</td>\n",
       "      <td>4.8</td>\n",
       "      <td>50.2</td>\n",
       "      <td>Duke University</td>\n",
       "      <td>25th overall</td>\n",
       "      <td>1st round</td>\n",
       "      <td>Portland Trail Blazers</td>\n",
       "      <td>1990</td>\n",
       "      <td>6-10</td>\n",
       "      <td>Bloomfield in Bloomfield, New Jersey</td>\n",
       "      <td>Alaa Abdelnaby</td>\n",
       "      <td>Power Forward</td>\n",
       "      <td>Right</td>\n",
       "      <td>240lb</td>\n",
       "      <td>82</td>\n",
       "      <td>NBA</td>\n",
       "      <td>abdelal01</td>\n",
       "      <td>494000</td>\n",
       "      <td>1991-92</td>\n",
       "      <td>1992</td>\n",
       "      <td>1991</td>\n",
       "      <td>Portland Trail Blazers</td>\n",
       "    </tr>\n",
       "    <tr>\n",
       "      <th>2</th>\n",
       "      <td>abdelal01</td>\n",
       "      <td>June 24, 1968</td>\n",
       "      <td>Cairo, Egypt</td>\n",
       "      <td>0.3</td>\n",
       "      <td>50.2</td>\n",
       "      <td>0.0</td>\n",
       "      <td>70.1</td>\n",
       "      <td>256</td>\n",
       "      <td>13.0</td>\n",
       "      <td>5.7</td>\n",
       "      <td>3.3</td>\n",
       "      <td>4.8</td>\n",
       "      <td>50.2</td>\n",
       "      <td>Duke University</td>\n",
       "      <td>25th overall</td>\n",
       "      <td>1st round</td>\n",
       "      <td>Portland Trail Blazers</td>\n",
       "      <td>1990</td>\n",
       "      <td>6-10</td>\n",
       "      <td>Bloomfield in Bloomfield, New Jersey</td>\n",
       "      <td>Alaa Abdelnaby</td>\n",
       "      <td>Power Forward</td>\n",
       "      <td>Right</td>\n",
       "      <td>240lb</td>\n",
       "      <td>82</td>\n",
       "      <td>NBA</td>\n",
       "      <td>abdelal01</td>\n",
       "      <td>500000</td>\n",
       "      <td>1992-93</td>\n",
       "      <td>1993</td>\n",
       "      <td>1992</td>\n",
       "      <td>Boston Celtics</td>\n",
       "    </tr>\n",
       "    <tr>\n",
       "      <th>3</th>\n",
       "      <td>abdelal01</td>\n",
       "      <td>June 24, 1968</td>\n",
       "      <td>Cairo, Egypt</td>\n",
       "      <td>0.3</td>\n",
       "      <td>50.2</td>\n",
       "      <td>0.0</td>\n",
       "      <td>70.1</td>\n",
       "      <td>256</td>\n",
       "      <td>13.0</td>\n",
       "      <td>5.7</td>\n",
       "      <td>3.3</td>\n",
       "      <td>4.8</td>\n",
       "      <td>50.2</td>\n",
       "      <td>Duke University</td>\n",
       "      <td>25th overall</td>\n",
       "      <td>1st round</td>\n",
       "      <td>Portland Trail Blazers</td>\n",
       "      <td>1990</td>\n",
       "      <td>6-10</td>\n",
       "      <td>Bloomfield in Bloomfield, New Jersey</td>\n",
       "      <td>Alaa Abdelnaby</td>\n",
       "      <td>Power Forward</td>\n",
       "      <td>Right</td>\n",
       "      <td>240lb</td>\n",
       "      <td>82</td>\n",
       "      <td>NBA</td>\n",
       "      <td>abdelal01</td>\n",
       "      <td>805000</td>\n",
       "      <td>1993-94</td>\n",
       "      <td>1994</td>\n",
       "      <td>1993</td>\n",
       "      <td>Boston Celtics</td>\n",
       "    </tr>\n",
       "    <tr>\n",
       "      <th>4</th>\n",
       "      <td>abdelal01</td>\n",
       "      <td>June 24, 1968</td>\n",
       "      <td>Cairo, Egypt</td>\n",
       "      <td>0.3</td>\n",
       "      <td>50.2</td>\n",
       "      <td>0.0</td>\n",
       "      <td>70.1</td>\n",
       "      <td>256</td>\n",
       "      <td>13.0</td>\n",
       "      <td>5.7</td>\n",
       "      <td>3.3</td>\n",
       "      <td>4.8</td>\n",
       "      <td>50.2</td>\n",
       "      <td>Duke University</td>\n",
       "      <td>25th overall</td>\n",
       "      <td>1st round</td>\n",
       "      <td>Portland Trail Blazers</td>\n",
       "      <td>1990</td>\n",
       "      <td>6-10</td>\n",
       "      <td>Bloomfield in Bloomfield, New Jersey</td>\n",
       "      <td>Alaa Abdelnaby</td>\n",
       "      <td>Power Forward</td>\n",
       "      <td>Right</td>\n",
       "      <td>240lb</td>\n",
       "      <td>82</td>\n",
       "      <td>NBA</td>\n",
       "      <td>abdelal01</td>\n",
       "      <td>650000</td>\n",
       "      <td>1994-95</td>\n",
       "      <td>1995</td>\n",
       "      <td>1994</td>\n",
       "      <td>Sacramento Kings</td>\n",
       "    </tr>\n",
       "  </tbody>\n",
       "</table>\n",
       "</div>"
      ],
      "text/plain": [
       "         _id      birthDate    birthPlace  career_AST career_FG% career_FG3%  \\\n",
       "0  abdelal01  June 24, 1968  Cairo, Egypt         0.3       50.2         0.0   \n",
       "1  abdelal01  June 24, 1968  Cairo, Egypt         0.3       50.2         0.0   \n",
       "2  abdelal01  June 24, 1968  Cairo, Egypt         0.3       50.2         0.0   \n",
       "3  abdelal01  June 24, 1968  Cairo, Egypt         0.3       50.2         0.0   \n",
       "4  abdelal01  June 24, 1968  Cairo, Egypt         0.3       50.2         0.0   \n",
       "\n",
       "  career_FT%  career_G career_PER  career_PTS career_TRB career_WS  \\\n",
       "0       70.1       256       13.0         5.7        3.3       4.8   \n",
       "1       70.1       256       13.0         5.7        3.3       4.8   \n",
       "2       70.1       256       13.0         5.7        3.3       4.8   \n",
       "3       70.1       256       13.0         5.7        3.3       4.8   \n",
       "4       70.1       256       13.0         5.7        3.3       4.8   \n",
       "\n",
       "  career_eFG%          college    draft_pick draft_round  \\\n",
       "0        50.2  Duke University  25th overall   1st round   \n",
       "1        50.2  Duke University  25th overall   1st round   \n",
       "2        50.2  Duke University  25th overall   1st round   \n",
       "3        50.2  Duke University  25th overall   1st round   \n",
       "4        50.2  Duke University  25th overall   1st round   \n",
       "\n",
       "               draft_team draft_year height  \\\n",
       "0  Portland Trail Blazers       1990   6-10   \n",
       "1  Portland Trail Blazers       1990   6-10   \n",
       "2  Portland Trail Blazers       1990   6-10   \n",
       "3  Portland Trail Blazers       1990   6-10   \n",
       "4  Portland Trail Blazers       1990   6-10   \n",
       "\n",
       "                             highSchool            name       position shoots  \\\n",
       "0  Bloomfield in Bloomfield, New Jersey  Alaa Abdelnaby  Power Forward  Right   \n",
       "1  Bloomfield in Bloomfield, New Jersey  Alaa Abdelnaby  Power Forward  Right   \n",
       "2  Bloomfield in Bloomfield, New Jersey  Alaa Abdelnaby  Power Forward  Right   \n",
       "3  Bloomfield in Bloomfield, New Jersey  Alaa Abdelnaby  Power Forward  Right   \n",
       "4  Bloomfield in Bloomfield, New Jersey  Alaa Abdelnaby  Power Forward  Right   \n",
       "\n",
       "  weight  height_inches league  player_id  salary   season  season_end  \\\n",
       "0  240lb             82    NBA  abdelal01  395000  1990-91        1991   \n",
       "1  240lb             82    NBA  abdelal01  494000  1991-92        1992   \n",
       "2  240lb             82    NBA  abdelal01  500000  1992-93        1993   \n",
       "3  240lb             82    NBA  abdelal01  805000  1993-94        1994   \n",
       "4  240lb             82    NBA  abdelal01  650000  1994-95        1995   \n",
       "\n",
       "   season_start                    team  \n",
       "0          1990  Portland Trail Blazers  \n",
       "1          1991  Portland Trail Blazers  \n",
       "2          1992          Boston Celtics  \n",
       "3          1993          Boston Celtics  \n",
       "4          1994        Sacramento Kings  "
      ]
     },
     "execution_count": 22,
     "metadata": {},
     "output_type": "execute_result"
    }
   ],
   "source": [
    "player_salaries.head()"
   ]
  },
  {
   "cell_type": "code",
   "execution_count": 21,
   "metadata": {},
   "outputs": [
    {
     "ename": "TypeError",
     "evalue": "scatter() missing 2 required positional arguments: 'x' and 'y'",
     "output_type": "error",
     "traceback": [
      "\u001b[0;31m---------------------------------------------------------------------------\u001b[0m",
      "\u001b[0;31mTypeError\u001b[0m                                 Traceback (most recent call last)",
      "\u001b[0;32m<ipython-input-21-fad0653f7907>\u001b[0m in \u001b[0;36m<module>\u001b[0;34m\u001b[0m\n\u001b[0;32m----> 1\u001b[0;31m \u001b[0mplt\u001b[0m\u001b[0;34m.\u001b[0m\u001b[0mscatter\u001b[0m\u001b[0;34m(\u001b[0m\u001b[0;34m)\u001b[0m\u001b[0;34m\u001b[0m\u001b[0;34m\u001b[0m\u001b[0m\n\u001b[0m\u001b[1;32m      2\u001b[0m \u001b[0mc\u001b[0m \u001b[0;34m=\u001b[0m \u001b[0mboston_df\u001b[0m\u001b[0;34m.\u001b[0m\u001b[0mRM\u001b[0m\u001b[0;34m\u001b[0m\u001b[0;34m\u001b[0m\u001b[0m\n\u001b[1;32m      3\u001b[0m \u001b[0mmarker\u001b[0m \u001b[0;34m=\u001b[0m \u001b[0;36m100\u001b[0m\u001b[0;34m\u001b[0m\u001b[0;34m\u001b[0m\u001b[0m\n\u001b[1;32m      4\u001b[0m \u001b[0mx\u001b[0m\u001b[0;34m=\u001b[0m\u001b[0;36m.5\u001b[0m\u001b[0;34m\u001b[0m\u001b[0;34m\u001b[0m\u001b[0m\n\u001b[1;32m      5\u001b[0m \u001b[0malpha\u001b[0m \u001b[0;34m=\u001b[0m \u001b[0;34m'blue'\u001b[0m\u001b[0;34m\u001b[0m\u001b[0;34m\u001b[0m\u001b[0m\n",
      "\u001b[0;31mTypeError\u001b[0m: scatter() missing 2 required positional arguments: 'x' and 'y'"
     ]
    }
   ],
   "source": [
    "a = height\n",
    "b = 100\n",
    "c = .2 \n",
    "d = 'green'\n",
    "e = 'pink' \n",
    "f = '^'\n",
    "g = career_assts\n",
    "h = individual_players['salary']/20000\n",
    "\n",
    "plt.scatter(x= , y=, alpha=, c=, marker=, s=)"
   ]
  },
  {
   "cell_type": "code",
   "execution_count": 52,
   "metadata": {},
   "outputs": [
    {
     "data": {
      "text/plain": [
       "<matplotlib.collections.PathCollection at 0x1a29fc54e0>"
      ]
     },
     "execution_count": 52,
     "metadata": {},
     "output_type": "execute_result"
    },
    {
     "data": {
      "image/png": "[encoded data removed]",
      "text/plain": [
       "<Figure size 432x288 with 1 Axes>"
      ]
     },
     "metadata": {
      "needs_background": "light"
     },
     "output_type": "display_data"
    }
   ],
   "source": [
    "#__SOLUTION__\n",
    "\n",
    "a = height\n",
    "b = 100\n",
    "c = .2 \n",
    "d = 'green'\n",
    "e = 'pink' \n",
    "f = '^'\n",
    "g = career_assts\n",
    "h = individual_players['salary']/20000\n",
    "\n",
    "plt.scatter(x=a , y=g, alpha=c, c=d, marker=f, s=h)\n"
   ]
  },
  {
   "cell_type": "markdown",
   "metadata": {},
   "source": [
    "## Line Plot\n",
    "\n",
    "Tracks the change of a single variable over time.  They are generally better than bar graphs over shorter periods of time.\n",
    "\n",
    "Here is some code to read in some well worn shampoo sales data over a three year period."
   ]
  },
  {
   "cell_type": "code",
   "execution_count": 124,
   "metadata": {},
   "outputs": [
    {
     "data": {
      "text/html": [
       "<div>\n",
       "<style scoped>\n",
       "    .dataframe tbody tr th:only-of-type {\n",
       "        vertical-align: middle;\n",
       "    }\n",
       "\n",
       "    .dataframe tbody tr th {\n",
       "        vertical-align: top;\n",
       "    }\n",
       "\n",
       "    .dataframe thead th {\n",
       "        text-align: right;\n",
       "    }\n",
       "</style>\n",
       "<table border=\"1\" class=\"dataframe\">\n",
       "  <thead>\n",
       "    <tr style=\"text-align: right;\">\n",
       "      <th></th>\n",
       "      <th>Month</th>\n",
       "      <th>Sales of shampoo over a three year period</th>\n",
       "    </tr>\n",
       "  </thead>\n",
       "  <tbody>\n",
       "    <tr>\n",
       "      <th>0</th>\n",
       "      <td>1-01</td>\n",
       "      <td>266.0</td>\n",
       "    </tr>\n",
       "    <tr>\n",
       "      <th>1</th>\n",
       "      <td>1-02</td>\n",
       "      <td>145.9</td>\n",
       "    </tr>\n",
       "    <tr>\n",
       "      <th>2</th>\n",
       "      <td>1-03</td>\n",
       "      <td>183.1</td>\n",
       "    </tr>\n",
       "    <tr>\n",
       "      <th>3</th>\n",
       "      <td>1-04</td>\n",
       "      <td>119.3</td>\n",
       "    </tr>\n",
       "    <tr>\n",
       "      <th>4</th>\n",
       "      <td>1-05</td>\n",
       "      <td>180.3</td>\n",
       "    </tr>\n",
       "  </tbody>\n",
       "</table>\n",
       "</div>"
      ],
      "text/plain": [
       "  Month  Sales of shampoo over a three year period\n",
       "0  1-01                                      266.0\n",
       "1  1-02                                      145.9\n",
       "2  1-03                                      183.1\n",
       "3  1-04                                      119.3\n",
       "4  1-05                                      180.3"
      ]
     },
     "execution_count": 124,
     "metadata": {},
     "output_type": "execute_result"
    }
   ],
   "source": [
    "import pandas as pd\n",
    "import matplotlib.pyplot as plt\n",
    "\n",
    "shampoo = pd.read_csv('data/sales-of-shampoo-over-a-three-ye.csv')[:-1]\n",
    "\n",
    "shampoo.head()"
   ]
  },
  {
   "cell_type": "code",
   "execution_count": 54,
   "metadata": {},
   "outputs": [
    {
     "data": {
      "text/plain": [
       "Text(0, 0.5, 'Total Sales')"
      ]
     },
     "execution_count": 54,
     "metadata": {},
     "output_type": "execute_result"
    },
    {
     "data": {
      "image/png": "[encoded data removed]",
      "text/plain": [
       "<Figure size 432x288 with 1 Axes>"
      ]
     },
     "metadata": {
      "needs_background": "light"
     },
     "output_type": "display_data"
    }
   ],
   "source": [
    "plt.plot(shampoo.Month, shampoo.iloc[:,1], color='g')\n",
    "plt.title('Shampoo Sales Across 3 Years')\n",
    "plt.xlabel('Year')\n",
    "plt.ylabel('Total Sales')"
   ]
  },
  {
   "cell_type": "markdown",
   "metadata": {},
   "source": [
    "## The xticks are illegible in the plot above.\n",
    "\n"
   ]
  },
  {
   "cell_type": "markdown",
   "metadata": {},
   "source": [
    "One way to combat that is to try rotating the ticks.  \n",
    "Use [this documentation](https://matplotlib.org/3.1.1/gallery/ticks_and_spines/ticklabels_rotation.html) to learn how to rotate.\n",
    "\n",
    "While you're at it, change the [linestyle](https://matplotlib.org/3.1.0/gallery/lines_bars_and_markers/linestyles.html)."
   ]
  },
  {
   "cell_type": "code",
   "execution_count": 55,
   "metadata": {},
   "outputs": [
    {
     "data": {
      "text/plain": [
       "Text(0, 0.5, 'Total Sales')"
      ]
     },
     "execution_count": 55,
     "metadata": {},
     "output_type": "execute_result"
    },
    {
     "data": {
      "image/png": "[encoded data removed]",
      "text/plain": [
       "<Figure size 432x288 with 1 Axes>"
      ]
     },
     "metadata": {
      "needs_background": "light"
     },
     "output_type": "display_data"
    }
   ],
   "source": [
    "# Update the code below to rotate the xticks\n",
    "plt.plot(shampoo.Month, shampoo.iloc[:,1], color='g')\n",
    "plt.title('Shampoo Sales Across 3 Years')\n",
    "plt.xlabel('Year')\n",
    "plt.ylabel('Total Sales')\n"
   ]
  },
  {
   "cell_type": "markdown",
   "metadata": {},
   "source": [
    "# Pair Programming # 1\n",
    "Now, in groups of 2, take 3 minutes to see if you can do better. Look into the xticks documentation further. Try to reduce the number of ticks to increase visability\n",
    "\n",
    "This can be tricky.  Don't get discouraged if you can't get it."
   ]
  },
  {
   "cell_type": "code",
   "execution_count": 56,
   "metadata": {},
   "outputs": [],
   "source": [
    "# Your code here"
   ]
  },
  {
   "cell_type": "markdown",
   "metadata": {},
   "source": [
    "## Bar charts\n",
    "\n",
    "Bar charts are everywhere: powerpoints, billboards and the evening news. They are used to show the relationship of a numerical and a categorical variable.\n",
    "\n",
    "For example, a bar chart can show the growth of a single categorical variable across time.\n",
    "\n"
   ]
  },
  {
   "cell_type": "code",
   "execution_count": 57,
   "metadata": {},
   "outputs": [
    {
     "data": {
      "text/html": [
       "<div>\n",
       "<style scoped>\n",
       "    .dataframe tbody tr th:only-of-type {\n",
       "        vertical-align: middle;\n",
       "    }\n",
       "\n",
       "    .dataframe tbody tr th {\n",
       "        vertical-align: top;\n",
       "    }\n",
       "\n",
       "    .dataframe thead th {\n",
       "        text-align: right;\n",
       "    }\n",
       "</style>\n",
       "<table border=\"1\" class=\"dataframe\">\n",
       "  <thead>\n",
       "    <tr style=\"text-align: right;\">\n",
       "      <th></th>\n",
       "      <th>Sales of shampoo over a three year period</th>\n",
       "    </tr>\n",
       "    <tr>\n",
       "      <th>month</th>\n",
       "      <th></th>\n",
       "    </tr>\n",
       "  </thead>\n",
       "  <tbody>\n",
       "    <tr>\n",
       "      <th>01</th>\n",
       "      <td>800.0</td>\n",
       "    </tr>\n",
       "    <tr>\n",
       "      <th>02</th>\n",
       "      <td>735.8</td>\n",
       "    </tr>\n",
       "    <tr>\n",
       "      <th>03</th>\n",
       "      <td>709.1</td>\n",
       "    </tr>\n",
       "    <tr>\n",
       "      <th>04</th>\n",
       "      <td>831.9</td>\n",
       "    </tr>\n",
       "    <tr>\n",
       "      <th>05</th>\n",
       "      <td>773.0</td>\n",
       "    </tr>\n",
       "    <tr>\n",
       "      <th>06</th>\n",
       "      <td>892.9</td>\n",
       "    </tr>\n",
       "    <tr>\n",
       "      <th>07</th>\n",
       "      <td>1033.3</td>\n",
       "    </tr>\n",
       "    <tr>\n",
       "      <th>08</th>\n",
       "      <td>935.7</td>\n",
       "    </tr>\n",
       "    <tr>\n",
       "      <th>09</th>\n",
       "      <td>1164.7</td>\n",
       "    </tr>\n",
       "    <tr>\n",
       "      <th>10</th>\n",
       "      <td>1019.8</td>\n",
       "    </tr>\n",
       "    <tr>\n",
       "      <th>11</th>\n",
       "      <td>1182.3</td>\n",
       "    </tr>\n",
       "    <tr>\n",
       "      <th>12</th>\n",
       "      <td>1175.1</td>\n",
       "    </tr>\n",
       "  </tbody>\n",
       "</table>\n",
       "</div>"
      ],
      "text/plain": [
       "       Sales of shampoo over a three year period\n",
       "month                                           \n",
       "01                                         800.0\n",
       "02                                         735.8\n",
       "03                                         709.1\n",
       "04                                         831.9\n",
       "05                                         773.0\n",
       "06                                         892.9\n",
       "07                                        1033.3\n",
       "08                                         935.7\n",
       "09                                        1164.7\n",
       "10                                        1019.8\n",
       "11                                        1182.3\n",
       "12                                        1175.1"
      ]
     },
     "execution_count": 57,
     "metadata": {},
     "output_type": "execute_result"
    }
   ],
   "source": [
    "# Year and months are in an odd format in this shampoo dataset.  \n",
    "# Use custom functions to extract data\n",
    "\n",
    "def get_year(date):\n",
    "    return date[0]\n",
    "\n",
    "shampoo['year'] = shampoo['Month'].apply(get_year)\n",
    "total_sales_per_year = shampoo.groupby('year').sum()[:-1]\n",
    "\n",
    "def get_month(date):\n",
    "    return date[2:]\n",
    "\n",
    "shampoo['month'] = shampoo['Month'].apply(get_month)\n",
    "total_sales_per_month = shampoo.groupby('month').sum().sort_values(by='month')\n",
    "months = ['January', 'February', 'March', 'April', \n",
    "         'May', 'June', 'July', 'August', 'September', \n",
    "         'October', 'November', 'December']\n",
    "total_sales_per_month"
   ]
  },
  {
   "cell_type": "code",
   "execution_count": 58,
   "metadata": {},
   "outputs": [
    {
     "data": {
      "image/png": "[encoded data removed]",
      "text/plain": [
       "<Figure size 432x288 with 1 Axes>"
      ]
     },
     "metadata": {
      "needs_background": "light"
     },
     "output_type": "display_data"
    }
   ],
   "source": [
    "plt.bar(x = list(total_sales_per_month.index), height=total_sales_per_month.values.flatten())\n",
    "plt.xticks(ticks = range(0,12), labels=months)\n",
    "plt.xticks(rotation=45)\n",
    "plt.title('Total shampoo sales per month')\n",
    "plt.xlabel('Total Sales')\n",
    "plt.ylabel('Month')\n",
    "plt.tight_layout()"
   ]
  },
  {
   "cell_type": "markdown",
   "metadata": {},
   "source": [
    "The plot about is small. Adjust the figure size to make it bigger.\n",
    "Look at [this link](https://stackoverflow.com/questions/332289/how-do-you-change-the-size-of-figures-drawn-with-matplotlib)"
   ]
  },
  {
   "cell_type": "code",
   "execution_count": 59,
   "metadata": {},
   "outputs": [],
   "source": [
    "# Your code here"
   ]
  },
  {
   "cell_type": "code",
   "execution_count": 60,
   "metadata": {},
   "outputs": [
    {
     "data": {
      "image/png": "[encoded data removed]",
      "text/plain": [
       "<Figure size 432x288 with 1 Axes>"
      ]
     },
     "metadata": {
      "needs_background": "light"
     },
     "output_type": "display_data"
    }
   ],
   "source": [
    "# With barplots, we can also interact with indiividual rectangles.\n",
    "\n",
    "rectangles = plt.bar(x = list(total_sales_per_month.index), height=total_sales_per_month.values.flatten())\n",
    "plt.xticks(ticks = range(0,12), labels=months)\n",
    "plt.xticks(rotation=45)\n",
    "plt.title('Total shampoo sales per month')\n",
    "plt.xlabel('Total Sales')\n",
    "plt.ylabel('Month')\n",
    "plt.tight_layout()\n",
    "rectangles[2].set_color('r')"
   ]
  },
  {
   "cell_type": "markdown",
   "metadata": {},
   "source": [
    "## Histograms"
   ]
  },
  {
   "cell_type": "markdown",
   "metadata": {},
   "source": [
    "We will get get further into histograms in mod 2, but it is good to get familiar with them sooner rather than later. \n",
    "\n",
    "Histograms create uniform bins across the entire range of a continuous variable. They then count the number of data points which fall into each bin.  \n",
    "\n",
    "Histograms are often confused with bar charts, since they look somewhat similar.  The big difference, however, is that histograms visualize the distribution of a continuous variable, rather than the discrete variable shown by barcharts. You can remember this because the bins of histograms don't have spaces between them.\n",
    "\n"
   ]
  },
  {
   "cell_type": "markdown",
   "metadata": {},
   "source": [
    "![histogram_ex](images/histogram_example.svg)"
   ]
  },
  {
   "cell_type": "code",
   "execution_count": 53,
   "metadata": {},
   "outputs": [],
   "source": [
    "divy_bikes_url = 'https://divvy-tripdata.s3.amazonaws.com/Divvy_Trips_2020_Q1.zip'"
   ]
  },
  {
   "cell_type": "code",
   "execution_count": 61,
   "metadata": {},
   "outputs": [
    {
     "name": "stdout",
     "output_type": "stream",
     "text": [
      "  % Total    % Received % Xferd  Average Speed   Time    Time     Time  Current\n",
      "                                 Dload  Upload   Total   Spent    Left  Speed\n",
      "100 15.1M  100 15.1M    0     0  2806k      0  0:00:05  0:00:05 --:--:-- 2702k\n",
      "Archive:  data/divy_2020_Q1.zip\n",
      "  inflating: data/Divvy_Trips_2020_Q1.csv  \n",
      "   creating: data/__MACOSX/\n",
      "  inflating: data/__MACOSX/._Divvy_Trips_2020_Q1.csv  \n"
     ]
    }
   ],
   "source": [
    "! curl https://divvy-tripdata.s3.amazonaws.com/Divvy_Trips_2020_Q1.zip -o 'data/divy_2020_Q1.zip'\n",
    "! unzip data/divy_2020_Q1.zip -d data\n"
   ]
  },
  {
   "cell_type": "code",
   "execution_count": 107,
   "metadata": {},
   "outputs": [],
   "source": [
    "from src.data_import import prep_divy\n",
    "divy_trips = prep_divy()"
   ]
  },
  {
   "cell_type": "code",
   "execution_count": 109,
   "metadata": {},
   "outputs": [
    {
     "data": {
      "text/html": [
       "<div>\n",
       "<style scoped>\n",
       "    .dataframe tbody tr th:only-of-type {\n",
       "        vertical-align: middle;\n",
       "    }\n",
       "\n",
       "    .dataframe tbody tr th {\n",
       "        vertical-align: top;\n",
       "    }\n",
       "\n",
       "    .dataframe thead th {\n",
       "        text-align: right;\n",
       "    }\n",
       "</style>\n",
       "<table border=\"1\" class=\"dataframe\">\n",
       "  <thead>\n",
       "    <tr style=\"text-align: right;\">\n",
       "      <th></th>\n",
       "      <th>ride_id</th>\n",
       "      <th>rideable_type</th>\n",
       "      <th>started_at</th>\n",
       "      <th>ended_at</th>\n",
       "      <th>start_station_name</th>\n",
       "      <th>start_station_id</th>\n",
       "      <th>end_station_name</th>\n",
       "      <th>end_station_id</th>\n",
       "      <th>start_lat</th>\n",
       "      <th>start_lng</th>\n",
       "      <th>end_lat</th>\n",
       "      <th>end_lng</th>\n",
       "      <th>member_casual</th>\n",
       "      <th>weekday</th>\n",
       "      <th>hour</th>\n",
       "    </tr>\n",
       "  </thead>\n",
       "  <tbody>\n",
       "    <tr>\n",
       "      <th>0</th>\n",
       "      <td>EACB19130B0CDA4A</td>\n",
       "      <td>docked_bike</td>\n",
       "      <td>2020-01-21 20:06:59</td>\n",
       "      <td>2020-01-21 20:14:30</td>\n",
       "      <td>Western Ave &amp; Leland Ave</td>\n",
       "      <td>239</td>\n",
       "      <td>Clark St &amp; Leland Ave</td>\n",
       "      <td>326.0</td>\n",
       "      <td>41.9665</td>\n",
       "      <td>-87.6884</td>\n",
       "      <td>41.9671</td>\n",
       "      <td>-87.6674</td>\n",
       "      <td>member</td>\n",
       "      <td>2</td>\n",
       "      <td>20</td>\n",
       "    </tr>\n",
       "    <tr>\n",
       "      <th>1</th>\n",
       "      <td>8FED874C809DC021</td>\n",
       "      <td>docked_bike</td>\n",
       "      <td>2020-01-30 14:22:39</td>\n",
       "      <td>2020-01-30 14:26:22</td>\n",
       "      <td>Clark St &amp; Montrose Ave</td>\n",
       "      <td>234</td>\n",
       "      <td>Southport Ave &amp; Irving Park Rd</td>\n",
       "      <td>318.0</td>\n",
       "      <td>41.9616</td>\n",
       "      <td>-87.6660</td>\n",
       "      <td>41.9542</td>\n",
       "      <td>-87.6644</td>\n",
       "      <td>member</td>\n",
       "      <td>4</td>\n",
       "      <td>14</td>\n",
       "    </tr>\n",
       "    <tr>\n",
       "      <th>2</th>\n",
       "      <td>789F3C21E472CA96</td>\n",
       "      <td>docked_bike</td>\n",
       "      <td>2020-01-09 19:29:26</td>\n",
       "      <td>2020-01-09 19:32:17</td>\n",
       "      <td>Broadway &amp; Belmont Ave</td>\n",
       "      <td>296</td>\n",
       "      <td>Wilton Ave &amp; Belmont Ave</td>\n",
       "      <td>117.0</td>\n",
       "      <td>41.9401</td>\n",
       "      <td>-87.6455</td>\n",
       "      <td>41.9402</td>\n",
       "      <td>-87.6530</td>\n",
       "      <td>member</td>\n",
       "      <td>4</td>\n",
       "      <td>19</td>\n",
       "    </tr>\n",
       "    <tr>\n",
       "      <th>3</th>\n",
       "      <td>C9A388DAC6ABF313</td>\n",
       "      <td>docked_bike</td>\n",
       "      <td>2020-01-06 16:17:07</td>\n",
       "      <td>2020-01-06 16:25:56</td>\n",
       "      <td>Clark St &amp; Randolph St</td>\n",
       "      <td>51</td>\n",
       "      <td>Fairbanks Ct &amp; Grand Ave</td>\n",
       "      <td>24.0</td>\n",
       "      <td>41.8846</td>\n",
       "      <td>-87.6319</td>\n",
       "      <td>41.8918</td>\n",
       "      <td>-87.6206</td>\n",
       "      <td>member</td>\n",
       "      <td>1</td>\n",
       "      <td>16</td>\n",
       "    </tr>\n",
       "    <tr>\n",
       "      <th>4</th>\n",
       "      <td>943BC3CBECCFD662</td>\n",
       "      <td>docked_bike</td>\n",
       "      <td>2020-01-30 08:37:16</td>\n",
       "      <td>2020-01-30 08:42:48</td>\n",
       "      <td>Clinton St &amp; Lake St</td>\n",
       "      <td>66</td>\n",
       "      <td>Wells St &amp; Hubbard St</td>\n",
       "      <td>212.0</td>\n",
       "      <td>41.8856</td>\n",
       "      <td>-87.6418</td>\n",
       "      <td>41.8899</td>\n",
       "      <td>-87.6343</td>\n",
       "      <td>member</td>\n",
       "      <td>4</td>\n",
       "      <td>8</td>\n",
       "    </tr>\n",
       "  </tbody>\n",
       "</table>\n",
       "</div>"
      ],
      "text/plain": [
       "            ride_id rideable_type          started_at             ended_at  \\\n",
       "0  EACB19130B0CDA4A   docked_bike 2020-01-21 20:06:59  2020-01-21 20:14:30   \n",
       "1  8FED874C809DC021   docked_bike 2020-01-30 14:22:39  2020-01-30 14:26:22   \n",
       "2  789F3C21E472CA96   docked_bike 2020-01-09 19:29:26  2020-01-09 19:32:17   \n",
       "3  C9A388DAC6ABF313   docked_bike 2020-01-06 16:17:07  2020-01-06 16:25:56   \n",
       "4  943BC3CBECCFD662   docked_bike 2020-01-30 08:37:16  2020-01-30 08:42:48   \n",
       "\n",
       "         start_station_name  start_station_id                end_station_name  \\\n",
       "0  Western Ave & Leland Ave               239           Clark St & Leland Ave   \n",
       "1   Clark St & Montrose Ave               234  Southport Ave & Irving Park Rd   \n",
       "2    Broadway & Belmont Ave               296        Wilton Ave & Belmont Ave   \n",
       "3    Clark St & Randolph St                51        Fairbanks Ct & Grand Ave   \n",
       "4      Clinton St & Lake St                66           Wells St & Hubbard St   \n",
       "\n",
       "   end_station_id  start_lat  start_lng  end_lat  end_lng member_casual  \\\n",
       "0           326.0    41.9665   -87.6884  41.9671 -87.6674        member   \n",
       "1           318.0    41.9616   -87.6660  41.9542 -87.6644        member   \n",
       "2           117.0    41.9401   -87.6455  41.9402 -87.6530        member   \n",
       "3            24.0    41.8846   -87.6319  41.8918 -87.6206        member   \n",
       "4           212.0    41.8856   -87.6418  41.8899 -87.6343        member   \n",
       "\n",
       "   weekday  hour  \n",
       "0        2    20  \n",
       "1        4    14  \n",
       "2        4    19  \n",
       "3        1    16  \n",
       "4        4     8  "
      ]
     },
     "execution_count": 109,
     "metadata": {},
     "output_type": "execute_result"
    }
   ],
   "source": [
    "divy_trips.head()"
   ]
  },
  {
   "cell_type": "markdown",
   "metadata": {},
   "source": [
    "Can we see a visual difference between in hourly ride count distributions between weekdays and weekends?\n"
   ]
  },
  {
   "cell_type": "code",
   "execution_count": 110,
   "metadata": {},
   "outputs": [],
   "source": [
    "# Plot weekdays"
   ]
  },
  {
   "cell_type": "code",
   "execution_count": 111,
   "metadata": {},
   "outputs": [
    {
     "data": {
      "image/png": "[encoded data removed]",
      "text/plain": [
       "<Figure size 432x288 with 1 Axes>"
      ]
     },
     "metadata": {
      "needs_background": "light"
     },
     "output_type": "display_data"
    }
   ],
   "source": [
    "weekday_divy = divy_trips[(divy_trips.weekday == 6) |(divy_trips.weekday == 7)]\n",
    "plt.hist(weekday_divy['hour'])\n",
    "plt.xlabel('Hour')\n",
    "plt.ylabel('Ride Count')\n",
    "plt.title('Ride Count Per Hour on Weekdays');"
   ]
  },
  {
   "cell_type": "code",
   "execution_count": 112,
   "metadata": {},
   "outputs": [
    {
     "data": {
      "image/png": "[encoded data removed]",
      "text/plain": [
       "<Figure size 432x288 with 1 Axes>"
      ]
     },
     "metadata": {
      "needs_background": "light"
     },
     "output_type": "display_data"
    }
   ],
   "source": [
    "# Plot Weekends\n",
    "weekend_divy = divy_trips[~(divy_trips.weekday == 6) |(divy_trips.weekday == 7)]\n",
    "\n",
    "plt.hist(weekend_divy['hour'])\n",
    "plt.xlabel('Hour of Day')\n",
    "plt.ylabel('Number of Total Daily Rides')\n",
    "plt.title('Ride Count Per Hour on Weekends');"
   ]
  },
  {
   "cell_type": "markdown",
   "metadata": {},
   "source": [
    "## Layering\n",
    "\n",
    "![cake](https://media.giphy.com/media/XMgCFjsCSARxK/giphy.gif)"
   ]
  },
  {
   "cell_type": "markdown",
   "metadata": {},
   "source": [
    "If we want to add multiple plots on one axis, we can simply call the plotting functions one after the other. "
   ]
  },
  {
   "cell_type": "code",
   "execution_count": 113,
   "metadata": {},
   "outputs": [
    {
     "name": "stderr",
     "output_type": "stream",
     "text": [
      "/Users/johnmaxbarry/.local/lib/python3.7/site-packages/ipykernel_launcher.py:1: MatplotlibDeprecationWarning: \n",
      "The 'normed' kwarg was deprecated in Matplotlib 2.1 and will be removed in 3.1. Use 'density' instead.\n",
      "  \"\"\"Entry point for launching an IPython kernel.\n",
      "/Users/johnmaxbarry/.local/lib/python3.7/site-packages/ipykernel_launcher.py:2: MatplotlibDeprecationWarning: \n",
      "The 'normed' kwarg was deprecated in Matplotlib 2.1 and will be removed in 3.1. Use 'density' instead.\n",
      "  \n"
     ]
    },
    {
     "data": {
      "image/png": "[encoded data removed]",
      "text/plain": [
       "<Figure size 432x288 with 1 Axes>"
      ]
     },
     "metadata": {
      "needs_background": "light"
     },
     "output_type": "display_data"
    }
   ],
   "source": [
    "plt.hist(weekday_divy['hour'], alpha=.5, normed=True, label='Weekday')\n",
    "plt.hist(weekend_divy['hour'], alpha=.5, normed=True, label='Weekend')\n",
    "plt.xlabel('Hour of Day')\n",
    "plt.ylabel('Fraction of Total Daily Rides')\n",
    "plt.legend();"
   ]
  },
  {
   "cell_type": "markdown",
   "metadata": {},
   "source": [
    "## Box Plots\n",
    "\n",
    "Box plots (or box-and-whisker plots), like histograms, show the distribution of a continous variable.  They have a median line, where half the data falls above, half below.  The box represents the interquartile range, and the whiskers encompass (most often) 95% of the data. We can detect skew from a boxplot, and it is also a quick way to see detect outliers.\n",
    "\n",
    "Again, we will get further into boxplots in mod 2."
   ]
  },
  {
   "cell_type": "markdown",
   "metadata": {},
   "source": [
    "![boxplot](images/boxplot.png)"
   ]
  },
  {
   "cell_type": "code",
   "execution_count": 121,
   "metadata": {},
   "outputs": [
    {
     "data": {
      "text/plain": [
       "array([24. , 21.6, 34.7, 33.4, 36.2])"
      ]
     },
     "execution_count": 121,
     "metadata": {},
     "output_type": "execute_result"
    }
   ],
   "source": [
    "from sklearn.datasets import load_boston\n",
    "\n",
    "data = load_boston()\n",
    "\n",
    "# Median value of Boston homes (1978) in 1000's\n",
    "house_prices = data.target\n",
    "house_prices[:5]\n"
   ]
  },
  {
   "cell_type": "code",
   "execution_count": 123,
   "metadata": {},
   "outputs": [
    {
     "data": {
      "image/png": "[encoded data removed]",
      "text/plain": [
       "<Figure size 432x288 with 1 Axes>"
      ]
     },
     "metadata": {
      "needs_background": "light"
     },
     "output_type": "display_data"
    }
   ],
   "source": [
    "plt.boxplot(house_prices)\n",
    "plt.ylabel(\"Housing Price ($1000s)\");"
   ]
  },
  {
   "cell_type": "markdown",
   "metadata": {},
   "source": [
    "## Plotting Syntax\n",
    "\n",
    "- There are many different ways to create plots but we will strongly suggest using the subplots method\n",
    "    - This is useful for extensibility \n",
    "    - Gives you access to the figure and individual axis in a plot\n",
    "    - More fine grained control of customizing your plot\n",
    "    - Easily create additional axis on your figure\n",
    "    - This syntax is a good level of abstraction\n",
    "        - You can go deeper into the api but this should give you immediate access to most tools you will need for whatever plot you are making\n",
    "    - Flatiron Specific\n",
    "        - Plotting code will be more easily readable for other students and instructors\n",
    "        - You don’t need to remember many different ways to organize your code"
   ]
  },
  {
   "cell_type": "markdown",
   "metadata": {},
   "source": [
    "Here are links to the [matplotlib documentation](https://matplotlib.org/index.html) as well as the [Axes object documentation](https://matplotlib.org/api/axes_api.html):\n",
    "\n",
    "We will now walk through some common charts and their uses, while practicing our matplotlib syntax"
   ]
  },
  {
   "cell_type": "markdown",
   "metadata": {},
   "source": [
    "# Pair Programming 2:\n",
    "\n",
    "We want to display the boxplot and the histogram of the boston housing sales prices side by side.  \n",
    "To do so, we will us the plt.subplots() convention.  \n",
    "\n",
    "The cell below is missing the appropriate ax and fig variables, so it will not run.  \n",
    "\n",
    "In groups of two, take 3 minutes to add in the appropriate variables to make the cell function."
   ]
  },
  {
   "cell_type": "code",
   "execution_count": 62,
   "metadata": {},
   "outputs": [
    {
     "ename": "ValueError",
     "evalue": "too many values to unpack (expected 0)",
     "output_type": "error",
     "traceback": [
      "\u001b[0;31m---------------------------------------------------------------------------\u001b[0m",
      "\u001b[0;31mValueError\u001b[0m                                Traceback (most recent call last)",
      "\u001b[0;32m<ipython-input-62-620c6d146ffd>\u001b[0m in \u001b[0;36m<module>\u001b[0;34m\u001b[0m\n\u001b[0;32m----> 1\u001b[0;31m \u001b[0mfig\u001b[0m\u001b[0;34m,\u001b[0m \u001b[0;34m(\u001b[0m\u001b[0;34m)\u001b[0m \u001b[0;34m=\u001b[0m \u001b[0mplt\u001b[0m\u001b[0;34m.\u001b[0m\u001b[0msubplots\u001b[0m\u001b[0;34m(\u001b[0m\u001b[0;36m1\u001b[0m\u001b[0;34m,\u001b[0m\u001b[0;36m2\u001b[0m\u001b[0;34m)\u001b[0m\u001b[0;34m\u001b[0m\u001b[0;34m\u001b[0m\u001b[0m\n\u001b[0m\u001b[1;32m      2\u001b[0m \u001b[0mset_figheight\u001b[0m\u001b[0;34m(\u001b[0m\u001b[0;36m7\u001b[0m\u001b[0;34m)\u001b[0m\u001b[0;34m\u001b[0m\u001b[0;34m\u001b[0m\u001b[0m\n\u001b[1;32m      3\u001b[0m \u001b[0mset_figwidth\u001b[0m\u001b[0;34m(\u001b[0m\u001b[0;36m10\u001b[0m\u001b[0;34m)\u001b[0m\u001b[0;34m\u001b[0m\u001b[0;34m\u001b[0m\u001b[0m\n\u001b[1;32m      4\u001b[0m \u001b[0;34m\u001b[0m\u001b[0m\n\u001b[1;32m      5\u001b[0m \u001b[0mboxplot\u001b[0m\u001b[0;34m(\u001b[0m\u001b[0msales_price\u001b[0m\u001b[0;34m)\u001b[0m\u001b[0;34m\u001b[0m\u001b[0;34m\u001b[0m\u001b[0m\n",
      "\u001b[0;31mValueError\u001b[0m: too many values to unpack (expected 0)"
     ]
    },
    {
     "data": {
      "image/png": "[encoded data removed]",
      "text/plain": [
       "<Figure size 432x288 with 2 Axes>"
      ]
     },
     "metadata": {
      "needs_background": "light"
     },
     "output_type": "display_data"
    }
   ],
   "source": [
    "\n",
    "fig, () = plt.subplots(1,2)\n",
    "set_figheight(7)\n",
    "set_figwidth(10)\n",
    "\n",
    "boxplot(sales_price)\n",
    "set_xlabel('House Price ($1000s)');\n",
    "set_ylabel('Count')\n",
    "set_title('Many Outliers in Boston House Prices')\n",
    "\n",
    "hist(sales_price)\n",
    "set_ylabel('Count')\n",
    "set_title('Distribution of Boston House Prices')\n",
    "\n",
    "plt.tight_layout()\n",
    ";"
   ]
  },
  {
   "cell_type": "markdown",
   "metadata": {},
   "source": [
    "## Pie Charts\n",
    "Love em or hate em, you'll no doubt see em.\n",
    "One spend much time on them, but know you can use matplotlib to plot them.\n",
    "They show relative sizes of subgroups of our data."
   ]
  },
  {
   "cell_type": "code",
   "execution_count": null,
   "metadata": {},
   "outputs": [],
   "source": [
    "fig, ax = plt.subplots()\n",
    "ax.pie(df_iris['target'].value_counts(), labels = list(data['target_names']), autopct='%1.0f%%');\n",
    "\n",
    "ax.set_title('Target Distribution of Iris Dataset')\n",
    "plt.tight_layout()\n"
   ]
  },
  {
   "cell_type": "code",
   "execution_count": null,
   "metadata": {},
   "outputs": [],
   "source": [
    "fig, ax = plt.subplots()\n",
    "for group in shampoo.groupby('year').groups:\n",
    "    x = shampoo.groupby('year').get_group(group)\n",
    "    ax.plot(x.month, x.iloc[:,1], )\n",
    "    \n",
    "ax.set_title('Lineplot of Shampoo Sales\\n Over Three Years')\n",
    "ax.legend(['year_1', 'year_2', 'year_3'])\n",
    "ax.set_xlabel('Month')\n",
    "ax.set_ylabel('Shampoo Sales')"
   ]
  },
  {
   "cell_type": "markdown",
   "metadata": {},
   "source": [
    "### Quick note: style sheets are cool\n",
    "\n",
    "Find another style from the Docs and set the style. Once you've set the style try rerunning older graphs:\n",
    "\n",
    "[Style Sheets](https://matplotlib.org/3.1.1/gallery/style_sheets/style_sheets_reference.html)"
   ]
  },
  {
   "cell_type": "code",
   "execution_count": null,
   "metadata": {},
   "outputs": [],
   "source": [
    "style = 'fivethirtyeight'\n",
    "plt.style.use(style)"
   ]
  },
  {
   "cell_type": "markdown",
   "metadata": {},
   "source": [
    "## Saving your figures"
   ]
  },
  {
   "cell_type": "markdown",
   "metadata": {},
   "source": [
    "Let's split the shampoo sales into years, and plot three line plots, one on top of the other"
   ]
  },
  {
   "cell_type": "code",
   "execution_count": null,
   "metadata": {},
   "outputs": [],
   "source": [
    "fig, ax = plt.subplots()\n",
    "for group in shampoo.groupby('year').groups:\n",
    "    x = shampoo.groupby('year').get_group(group)\n",
    "    ax.plot(x.month, x.iloc[:,1], )\n",
    "    \n",
    "ax.legend(['year_1', 'year_2', 'year_3'])\n",
    "ax.set_xlabel('Month')\n",
    "ax.set_ylabel('Shampoo Sales')\n",
    "\n",
    "# plt.savefig('path_to_figure_folder/.svg')"
   ]
  },
  {
   "cell_type": "code",
   "execution_count": null,
   "metadata": {},
   "outputs": [],
   "source": []
  },
  {
   "cell_type": "markdown",
   "metadata": {},
   "source": [
    "# Seaborn\n",
    "\n",
    "[Seaborn Gallery](https://seaborn.pydata.org/examples/index.html)\n",
    "\n",
    "[List of Graphing Methods for Seaborn](https://seaborn.pydata.org/api.html#relational-api)\n",
    "\n",
    "Seaborn is a wrapper around matplotlib which provides a high-level interface for drawing attractive and informative statistical graphics"
   ]
  },
  {
   "cell_type": "code",
   "execution_count": null,
   "metadata": {},
   "outputs": [],
   "source": [
    "import seaborn as sns\n",
    "from matplotlib import pyplot as plt\n",
    "import numpy as np\n",
    "from scipy import stats"
   ]
  },
  {
   "cell_type": "code",
   "execution_count": null,
   "metadata": {},
   "outputs": [],
   "source": [
    "# The `style` parameter can be set equal to\n",
    "# 'white', 'dark', 'whitegrid', 'darkgrid', or\n",
    "# 'ticks'\n",
    "\n",
    "sns.set(style='whitegrid')\n",
    "fig, ax = plt.subplots()\n",
    "\n",
    "X = np.linspace(-3, 3, 100)\n",
    "y = X**2\n",
    "ax.plot(X, y);"
   ]
  },
  {
   "cell_type": "markdown",
   "metadata": {},
   "source": [
    "## Adding Text"
   ]
  },
  {
   "cell_type": "code",
   "execution_count": null,
   "metadata": {},
   "outputs": [],
   "source": [
    "fig, ax = plt.subplots()\n",
    "\n",
    "X = np.linspace(-3, 3, 100)\n",
    "y = X**2\n",
    "ax.plot(X, y)\n",
    "ax.text(s='random comment', x=0, y=3)\n",
    "ax.annotate(s='minimum!', xy=(0, 0), xytext=(1, -4),\n",
    "           arrowprops={'facecolor': 'black'});"
   ]
  },
  {
   "cell_type": "markdown",
   "metadata": {},
   "source": [
    "## Scatter Plot"
   ]
  },
  {
   "cell_type": "code",
   "execution_count": null,
   "metadata": {},
   "outputs": [],
   "source": [
    "fig, ax = plt.subplots()\n",
    "\n",
    "x, y = np.random.randn(2, 300)\n",
    "\n",
    "# With Seaborn we can still use the subplots syntax by passing our\n",
    "# axis object into the graphing function\n",
    "\n",
    "sns.scatterplot(x, y, ax=ax)\n",
    "ax.set_ylabel('Cars')\n",
    "ax.set_xlabel('Number of Office Chairs');"
   ]
  },
  {
   "cell_type": "markdown",
   "metadata": {},
   "source": [
    "## Violin Plot"
   ]
  },
  {
   "cell_type": "code",
   "execution_count": null,
   "metadata": {},
   "outputs": [],
   "source": [
    "tips = sns.load_dataset(\"tips\")\n",
    "\n",
    "fig, ax = plt.subplots()\n",
    "\n",
    "sns.violinplot(data=tips, x=\"day\", y=\"total_bill\");"
   ]
  },
  {
   "cell_type": "markdown",
   "metadata": {},
   "source": [
    "## Kernel Density Estimation Plot"
   ]
  },
  {
   "cell_type": "code",
   "execution_count": null,
   "metadata": {},
   "outputs": [],
   "source": [
    "sample = stats.norm.rvs(size=200)\n",
    "\n",
    "sns.kdeplot(sample);"
   ]
  },
  {
   "cell_type": "code",
   "execution_count": null,
   "metadata": {},
   "outputs": [],
   "source": [
    "sns.kdeplot(sample, bw=0.1);"
   ]
  },
  {
   "cell_type": "code",
   "execution_count": null,
   "metadata": {
    "scrolled": true
   },
   "outputs": [],
   "source": [
    "sns.kdeplot(sample, bw=0.01, kernel='epa');"
   ]
  },
  {
   "cell_type": "code",
   "execution_count": null,
   "metadata": {},
   "outputs": [],
   "source": [
    "sns.distplot(sample);"
   ]
  },
  {
   "cell_type": "markdown",
   "metadata": {},
   "source": [
    "Use another seaborn ploting method to explore the dataset!"
   ]
  },
  {
   "cell_type": "code",
   "execution_count": null,
   "metadata": {},
   "outputs": [],
   "source": [
    "# Your code here\n",
    "\n"
   ]
  },
  {
   "cell_type": "markdown",
   "metadata": {},
   "source": [
    "## Seaborn Datasets"
   ]
  },
  {
   "cell_type": "code",
   "execution_count": null,
   "metadata": {},
   "outputs": [],
   "source": [
    "sns.get_dataset_names()"
   ]
  },
  {
   "cell_type": "code",
   "execution_count": null,
   "metadata": {},
   "outputs": [],
   "source": [
    "ans = sns.load_dataset('anscombe')\n",
    "ans.head()"
   ]
  },
  {
   "cell_type": "code",
   "execution_count": null,
   "metadata": {},
   "outputs": [],
   "source": [
    "fig, ax = plt.subplots()\n",
    "ax.scatter(ans['x'], ans['y'], c=ans['dataset'].map({'I': 1,\n",
    "                                                     'II': 2,\n",
    "                                                     'III': 3,\n",
    "                                                     'IV': 4}));"
   ]
  },
  {
   "cell_type": "code",
   "execution_count": null,
   "metadata": {},
   "outputs": [],
   "source": []
  }
 ],
 "metadata": {
  "kernelspec": {
   "display_name": "Python 3",
   "language": "python",
   "name": "python3"
  },
  "language_info": {
   "codemirror_mode": {
    "name": "ipython",
    "version": 3
   },
   "file_extension": ".py",
   "mimetype": "text/x-python",
   "name": "python",
   "nbconvert_exporter": "python",
   "pygments_lexer": "ipython3",
   "version": "3.7.3"
  }
 },
 "nbformat": 4,
 "nbformat_minor": 4
}
